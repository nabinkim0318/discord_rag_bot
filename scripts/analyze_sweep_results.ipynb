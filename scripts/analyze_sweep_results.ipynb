{
 "cells": [
  {
   "cell_type": "markdown",
   "id": "21b9f900",
   "metadata": {},
   "source": [
    "# Retrieval Sweep Results Analysis\n",
    "이 노트북은 `scripts/sweep_retrieval.py`가 생성한 CSV 결과를 로드해\n",
    "구성별 성능을 비교하고 상위 조합을 선별합니다.\n"
   ]
  },
  {
   "cell_type": "code",
   "execution_count": null,
   "id": "6634a2e1",
   "metadata": {},
   "outputs": [],
   "source": [
    "\n",
    "import pandas as pd\n",
    "from pathlib import Path\n",
    "from caas_jupyter_tools import display_dataframe_to_user\n",
    "\n",
    "results_dir = Path('/mnt/data/results')\n",
    "summary_csv = list(results_dir.glob('*.csv'))\n",
    "summary_csv\n"
   ]
  },
  {
   "cell_type": "code",
   "execution_count": null,
   "id": "59909d64",
   "metadata": {},
   "outputs": [],
   "source": [
    "\n",
    "import pandas as pd\n",
    "from pathlib import Path\n",
    "\n",
    "# 파일 경로를 직접 지정하세요\n",
    "summary_path = Path('/mnt/data/results/sweep_run.csv')\n",
    "per_query_path = Path('/mnt/data/results/sweep_run_per_query.csv')\n",
    "\n",
    "summary = pd.read_csv(summary_path)\n",
    "per_query = pd.read_csv(per_query_path)\n",
    "\n",
    "summary.head(), per_query.head()\n"
   ]
  },
  {
   "cell_type": "markdown",
   "id": "14707754",
   "metadata": {},
   "source": [
    "## 상위 조합(top-N) 선정"
   ]
  },
  {
   "cell_type": "code",
   "execution_count": null,
   "id": "8d7b12a5",
   "metadata": {},
   "outputs": [],
   "source": [
    "\n",
    "# 간단한 스코어: hit_rate 0.6, kw_hit_rate 0.3, - avg_latency_s 0.1 가중합\n",
    "summary = summary.copy()\n",
    "summary['score'] = 0.6*summary['hit_rate'] + 0.3*summary['kw_hit_rate'] - 0.1*summary['avg_latency_s']\n",
    "top = summary.sort_values('score', ascending=False).head(10)\n",
    "top\n"
   ]
  },
  {
   "cell_type": "markdown",
   "id": "0c3c362b",
   "metadata": {},
   "source": [
    "## 시각화 (matplotlib, 색상 미지정 규칙 준수)"
   ]
  },
  {
   "cell_type": "code",
   "execution_count": null,
   "id": "6b31b17d",
   "metadata": {},
   "outputs": [],
   "source": [
    "\n",
    "import matplotlib.pyplot as plt\n",
    "\n",
    "plt.figure()\n",
    "plt.scatter(summary['avg_latency_s'], summary['hit_rate'])\n",
    "plt.xlabel('Avg Latency (s)')\n",
    "plt.ylabel('Hit Rate')\n",
    "plt.title('Latency vs Hit Rate')\n",
    "plt.show()\n"
   ]
  },
  {
   "cell_type": "markdown",
   "id": "cc499c3a",
   "metadata": {},
   "source": [
    "## 의도/쿼리 유형별 성능 (선택: per_query CSV에 라벨 칼럼 추가 시)"
   ]
  },
  {
   "cell_type": "code",
   "execution_count": null,
   "id": "eafd992c",
   "metadata": {},
   "outputs": [],
   "source": [
    "\n",
    "# 예시: per_query['intent']가 있다면 그룹별 평균을 볼 수 있습니다.\n",
    "if 'intent' in per_query.columns:\n",
    "    print(per_query.groupby('intent')[['hit','kw_hit','coverage','latency_s']].mean())\n",
    "else:\n",
    "    print('per_query.csv에 intent 칼럼이 없네요. 원한다면 eval_set에 intent를 넣고 스크립트에서 내려주세요.')\n"
   ]
  }
 ],
 "metadata": {},
 "nbformat": 4,
 "nbformat_minor": 5
}
